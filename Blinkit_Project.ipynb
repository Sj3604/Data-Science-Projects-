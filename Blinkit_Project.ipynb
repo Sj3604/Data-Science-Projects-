{
  "nbformat": 4,
  "nbformat_minor": 0,
  "metadata": {
    "colab": {
      "provenance": [],
      "authorship_tag": "ABX9TyOSsPSQ7tLVGsBa8iQGokWP",
      "include_colab_link": true
    },
    "kernelspec": {
      "name": "python3",
      "display_name": "Python 3"
    },
    "language_info": {
      "name": "python"
    }
  },
  "cells": [
    {
      "cell_type": "markdown",
      "metadata": {
        "id": "view-in-github",
        "colab_type": "text"
      },
      "source": [
        "<a href=\"https://colab.research.google.com/github/Sj3604/Data-Science-Projects-/blob/main/Blinkit_Project.ipynb\" target=\"_parent\"><img src=\"https://colab.research.google.com/assets/colab-badge.svg\" alt=\"Open In Colab\"/></a>"
      ]
    },
    {
      "cell_type": "code",
      "execution_count": null,
      "metadata": {
        "colab": {
          "base_uri": "https://localhost:8080/"
        },
        "id": "z5N23m90V7T-",
        "outputId": "293f949f-8da4-49e0-a814-922ae2cda6d1"
      },
      "outputs": [
        {
          "output_type": "stream",
          "name": "stdout",
          "text": [
            "<class 'pandas.core.frame.DataFrame'>\n",
            "RangeIndex: 8523 entries, 0 to 8522\n",
            "Data columns (total 12 columns):\n",
            " #   Column                     Non-Null Count  Dtype  \n",
            "---  ------                     --------------  -----  \n",
            " 0   Item_Identifier            8523 non-null   object \n",
            " 1   Item_Weight                7060 non-null   float64\n",
            " 2   Item_Fat_Content           8523 non-null   object \n",
            " 3   Item_Visibility            8523 non-null   float64\n",
            " 4   Item_Type                  8523 non-null   object \n",
            " 5   Item_MRP                   8523 non-null   float64\n",
            " 6   Outlet_Identifier          8523 non-null   object \n",
            " 7   Outlet_Establishment_Year  8523 non-null   int64  \n",
            " 8   Outlet_Size                6113 non-null   object \n",
            " 9   Outlet_Location_Type       8523 non-null   object \n",
            " 10  Outlet_Type                8523 non-null   object \n",
            " 11  Item_Outlet_Sales          8523 non-null   float64\n",
            "dtypes: float64(4), int64(1), object(7)\n",
            "memory usage: 799.2+ KB\n",
            "None\n",
            "  Item_Identifier  Item_Weight Item_Fat_Content  Item_Visibility  \\\n",
            "0           FDA15         9.30          Low Fat         0.016047   \n",
            "1           DRC01         5.92          Regular         0.019278   \n",
            "2           FDN15        17.50          Low Fat         0.016760   \n",
            "3           FDX07        19.20          Regular         0.000000   \n",
            "4           NCD19         8.93          Low Fat         0.000000   \n",
            "\n",
            "               Item_Type  Item_MRP Outlet_Identifier  \\\n",
            "0                  Dairy  249.8092            OUT049   \n",
            "1            Soft Drinks   48.2692            OUT018   \n",
            "2                   Meat  141.6180            OUT049   \n",
            "3  Fruits and Vegetables  182.0950            OUT010   \n",
            "4              Household   53.8614            OUT013   \n",
            "\n",
            "   Outlet_Establishment_Year Outlet_Size Outlet_Location_Type  \\\n",
            "0                       1999      Medium               Tier 1   \n",
            "1                       2009      Medium               Tier 3   \n",
            "2                       1999      Medium               Tier 1   \n",
            "3                       1998         NaN               Tier 3   \n",
            "4                       1987        High               Tier 3   \n",
            "\n",
            "         Outlet_Type  Item_Outlet_Sales  \n",
            "0  Supermarket Type1          3735.1380  \n",
            "1  Supermarket Type2           443.4228  \n",
            "2  Supermarket Type1          2097.2700  \n",
            "3      Grocery Store           732.3800  \n",
            "4  Supermarket Type1           994.7052  \n"
          ]
        }
      ],
      "source": [
        "import numpy as np\n",
        "import pandas as pd\n",
        "df = pd.read_excel(\"/content/Tableau BlinkIT Grocery Project U16955293080 (4).xlsx\")\n",
        "print(df.info())\n",
        "print(df.head())"
      ]
    },
    {
      "cell_type": "code",
      "source": [
        "print(df.Outlet_Type.value_counts())\n"
      ],
      "metadata": {
        "colab": {
          "base_uri": "https://localhost:8080/"
        },
        "id": "6SiQV7g6XRgF",
        "outputId": "ea453d47-212f-494f-b8e3-d7cdc4e7497c"
      },
      "execution_count": null,
      "outputs": [
        {
          "output_type": "stream",
          "name": "stdout",
          "text": [
            "Outlet_Type\n",
            "Supermarket Type1    5577\n",
            "Grocery Store        1083\n",
            "Supermarket Type3     935\n",
            "Supermarket Type2     928\n",
            "Name: count, dtype: int64\n"
          ]
        }
      ]
    },
    {
      "cell_type": "markdown",
      "metadata": {
        "id": "92a81bf0"
      },
      "source": [
        "Let's analyze the sales based on the `Outlet_Type`. We can group the DataFrame by `Outlet_Type` and calculate the average `Item_Outlet_Sales` for each type."
      ]
    },
    {
      "cell_type": "code",
      "metadata": {
        "colab": {
          "base_uri": "https://localhost:8080/"
        },
        "id": "3a19f8a0",
        "outputId": "676599a1-cf91-4973-a792-d6dabe52cc12"
      },
      "source": [
        "outlet_type_sales = df.groupby('Outlet_Type')['Item_Outlet_Sales'].mean().sort_values(ascending=False)\n",
        "print(\"Average Item Outlet Sales by Outlet Type:\")\n",
        "print(outlet_type_sales)"
      ],
      "execution_count": null,
      "outputs": [
        {
          "output_type": "stream",
          "name": "stdout",
          "text": [
            "Average Item Outlet Sales by Outlet Type:\n",
            "Outlet_Type\n",
            "Supermarket Type3    3694.038558\n",
            "Supermarket Type1    2316.181148\n",
            "Supermarket Type2    1995.498739\n",
            "Grocery Store         339.828500\n",
            "Name: Item_Outlet_Sales, dtype: float64\n"
          ]
        }
      ]
    },
    {
      "cell_type": "code",
      "source": [
        "tier_price_sales = df.groupby(['Outlet_Location_Type', 'Item_MRP'])['Item_Outlet_Sales'].mean()\n",
        "print(\"Average Item Outlet Sales by Outlet Location Type and Item MRP:\")\n",
        "print(tier_price_sales)"
      ],
      "metadata": {
        "colab": {
          "base_uri": "https://localhost:8080/"
        },
        "id": "HCEHRklGYCDZ",
        "outputId": "cf5d9df0-f7dc-4b82-f81a-3f35517aaad2"
      },
      "execution_count": null,
      "outputs": [
        {
          "output_type": "stream",
          "name": "stdout",
          "text": [
            "Average Item Outlet Sales by Outlet Location Type and Item MRP:\n",
            "Outlet_Location_Type  Item_MRP\n",
            "Tier 1                32.4558      101.8674\n",
            "                      32.4900      865.5400\n",
            "                      32.8558      645.1602\n",
            "                      32.9216      588.5672\n",
            "                      33.1216      623.1888\n",
            "                                    ...    \n",
            "Tier 3                265.1568    2109.2544\n",
            "                      265.1884    5697.2506\n",
            "                      265.2884    1722.4246\n",
            "                      266.1884    5299.7680\n",
            "                      266.6884    2119.9072\n",
            "Name: Item_Outlet_Sales, Length: 7516, dtype: float64\n"
          ]
        }
      ]
    },
    {
      "cell_type": "markdown",
      "metadata": {
        "id": "5ae7f993"
      },
      "source": [
        "Let's filter the data to include only items with 'Low Fat' content and then count the number of low-fat items sold by each outlet."
      ]
    },
    {
      "cell_type": "code",
      "metadata": {
        "colab": {
          "base_uri": "https://localhost:8080/"
        },
        "id": "bcd24866",
        "outputId": "c6f4bef7-b2a9-4e0d-ef57-2c76568062dd"
      },
      "source": [
        "low_fat_items_df = df[df['Item_Fat_Content'] == 'Low Fat']\n",
        "outlet_low_fat_counts = low_fat_items_df['Outlet_Identifier'].value_counts()\n",
        "\n",
        "print(\"Number of Low Fat items sold by each outlet:\")\n",
        "print(outlet_low_fat_counts)"
      ],
      "execution_count": null,
      "outputs": [
        {
          "output_type": "stream",
          "name": "stdout",
          "text": [
            "Number of Low Fat items sold by each outlet:\n",
            "Outlet_Identifier\n",
            "OUT045    570\n",
            "OUT049    560\n",
            "OUT035    559\n",
            "OUT013    556\n",
            "OUT027    553\n",
            "OUT046    552\n",
            "OUT017    550\n",
            "OUT018    547\n",
            "OUT010    328\n",
            "OUT019    314\n",
            "Name: count, dtype: int64\n"
          ]
        }
      ]
    },
    {
      "cell_type": "markdown",
      "metadata": {
        "id": "168a52eb"
      },
      "source": [
        "Let's analyze the effect of store location on sales by grouping by `Outlet_Location_Type` and calculating the average `Item_Outlet_Sales`."
      ]
    },
    {
      "cell_type": "code",
      "metadata": {
        "colab": {
          "base_uri": "https://localhost:8080/"
        },
        "id": "a8a86105",
        "outputId": "da033837-ce4e-41ba-b437-19be77e4cdde"
      },
      "source": [
        "location_sales = df.groupby('Outlet_Location_Type')['Item_Outlet_Sales'].mean().sort_values(ascending=False)\n",
        "print(\"Average Item Outlet Sales by Outlet Location Type:\")\n",
        "print(location_sales)"
      ],
      "execution_count": null,
      "outputs": [
        {
          "output_type": "stream",
          "name": "stdout",
          "text": [
            "Average Item Outlet Sales by Outlet Location Type:\n",
            "Outlet_Location_Type\n",
            "Tier 2    2323.990559\n",
            "Tier 3    2279.627651\n",
            "Tier 1    1876.909159\n",
            "Name: Item_Outlet_Sales, dtype: float64\n"
          ]
        }
      ]
    },
    {
      "cell_type": "markdown",
      "metadata": {
        "id": "ce252699"
      },
      "source": [
        "Now, let's visualize the average sales by `Outlet_Location_Type` using a bar plot."
      ]
    },
    {
      "cell_type": "code",
      "metadata": {
        "colab": {
          "base_uri": "https://localhost:8080/",
          "height": 564
        },
        "id": "d5eace71",
        "outputId": "1242bbe3-aee9-47c5-e2cb-e36c597fad01"
      },
      "source": [
        "import matplotlib.pyplot as plt\n",
        "import seaborn as sns\n",
        "\n",
        "plt.figure(figsize=(8, 6))\n",
        "sns.barplot(x=location_sales.index, y=location_sales.values)\n",
        "plt.title('Average Item Outlet Sales by Outlet Location Type')\n",
        "plt.xlabel('Outlet Location Type')\n",
        "plt.ylabel('Average Item Outlet Sales')\n",
        "plt.show()"
      ],
      "execution_count": null,
      "outputs": [
        {
          "output_type": "display_data",
          "data": {
            "text/plain": [
              "<Figure size 800x600 with 1 Axes>"
            ],
            "image/png": "[encoded data removed]"
          },
          "metadata": {}
        }
      ]
    },
    {
      "cell_type": "markdown",
      "metadata": {
        "id": "fe5a5692"
      },
      "source": [
        "**Analysis:**\n",
        "\n",
        "Based on the average item outlet sales by Outlet Location Type, **Tier 2** locations show the highest average sales, followed by Tier 3 and then Tier 1. This suggests that the location of a store does have an effect on its sales performance, with stores in Tier 2 locations performing the best on average in this dataset."
      ]
    },
    {
      "cell_type": "markdown",
      "metadata": {
        "id": "11d43e48"
      },
      "source": [
        "Let's find out which item type is sold the most by counting the occurrences of each `Item_Type`."
      ]
    },
    {
      "cell_type": "code",
      "metadata": {
        "colab": {
          "base_uri": "https://localhost:8080/"
        },
        "id": "3c7c9cfb",
        "outputId": "ac5ca8fc-a61d-43de-ab9f-28a94e204095"
      },
      "source": [
        "item_type_counts = df['Item_Type'].value_counts()\n",
        "print(\"Most sold Item Types:\")\n",
        "print(item_type_counts)"
      ],
      "execution_count": null,
      "outputs": [
        {
          "output_type": "stream",
          "name": "stdout",
          "text": [
            "Most sold Item Types:\n",
            "Item_Type\n",
            "Fruits and Vegetables    1232\n",
            "Snack Foods              1200\n",
            "Household                 910\n",
            "Frozen Foods              856\n",
            "Dairy                     682\n",
            "Canned                    649\n",
            "Baking Goods              648\n",
            "Health and Hygiene        520\n",
            "Soft Drinks               445\n",
            "Meat                      425\n",
            "Breads                    251\n",
            "Hard Drinks               214\n",
            "Others                    169\n",
            "Starchy Foods             148\n",
            "Breakfast                 110\n",
            "Seafood                    64\n",
            "Name: count, dtype: int64\n"
          ]
        }
      ]
    },
    {
      "cell_type": "markdown",
      "metadata": {
        "id": "66d86df6"
      },
      "source": [
        "**Analysis:**\n",
        "\n",
        "Based on the count of item types sold, 'Fruits and Vegetables' is the most sold item type by Blinkit."
      ]
    },
    {
      "cell_type": "markdown",
      "metadata": {
        "id": "fc474f1a"
      },
      "source": [
        "Let's analyze if the outlet establishment year has any relationship with the item outlet sales by grouping by `Outlet_Establishment_Year` and calculating the average `Item_Outlet_Sales`."
      ]
    },
    {
      "cell_type": "code",
      "metadata": {
        "colab": {
          "base_uri": "https://localhost:8080/"
        },
        "id": "809d0fd8",
        "outputId": "25eb2cfb-eea4-4408-ee7f-2ade725218cb"
      },
      "source": [
        "establishment_year_sales = df.groupby('Outlet_Establishment_Year')['Item_Outlet_Sales'].mean().sort_index()\n",
        "print(\"Average Item Outlet Sales by Outlet Establishment Year:\")\n",
        "print(establishment_year_sales)"
      ],
      "execution_count": null,
      "outputs": [
        {
          "output_type": "stream",
          "name": "stdout",
          "text": [
            "Average Item Outlet Sales by Outlet Establishment Year:\n",
            "Outlet_Establishment_Year\n",
            "1985    2483.677474\n",
            "1987    2298.995256\n",
            "1997    2277.844267\n",
            "1998     339.351662\n",
            "1999    2348.354635\n",
            "2002    2192.384798\n",
            "2004    2438.841866\n",
            "2007    2340.675263\n",
            "2009    1995.498739\n",
            "Name: Item_Outlet_Sales, dtype: float64\n"
          ]
        }
      ]
    },
    {
      "cell_type": "markdown",
      "metadata": {
        "id": "1b1ef405"
      },
      "source": [
        "**Observation:**\n",
        "\n",
        "From the average item outlet sales by Outlet Establishment Year, we can see that the stores opened in 2007 have almost the same average sales as those opened in 1985."
      ]
    },
    {
      "cell_type": "markdown",
      "metadata": {
        "id": "3bd4e62f"
      },
      "source": [
        "**Overall Analysis Summary:**\n",
        "\n",
        "*   **Sales Performance by Outlet Type:** We found that 'Supermarket Type3' outlets have the highest average sales, while 'Grocery Stores' have the lowest. This indicates that the type of store significantly impacts sales.\n",
        "*   **Sales Performance by Outlet Location:** The analysis showed that 'Tier 2' locations have the highest average sales, closely followed by 'Tier 3', and then 'Tier 1'. This suggests that the geographical location also plays a role in sales performance.\n",
        "*   **Most Sold Item Types:** 'Fruits and Vegetables' and 'Snack Foods' are the most frequently sold item types in this dataset.\n",
        "*   **Sales by Establishment Year:** We observed variations in average sales based on the outlet establishment year, with some years showing higher average sales than others. Notably, stores opened in 2007 had average sales similar to those opened in 1985.\n",
        "*   **Low Fat Item Sales:** We identified that Outlet OUT045 sells the highest number of low-fat items.\n",
        "\n",
        "**Feedback and Potential Improvements/Further Analysis:**\n",
        "\n",
        "*   **Deeper Dive into Outlet Types:** While we found average sales by outlet type, you could explore the reasons behind the differences. For example, do Supermarket Type3 stores have specific characteristics (like size, location, or item variety) that contribute to their high sales?\n",
        "*   **Impact of Item Characteristics on Sales:** We looked at item types and fat content, but you could analyze how `Item_Weight`, `Item_Visibility`, and `Item_MRP` influence sales. For instance, are higher-priced items selling better in certain outlets or locations?\n",
        "*   **Handling Missing Values:** The initial data info showed missing values in 'Item\\_Weight' and 'Outlet\\_Size'. Addressing these missing values (e.g., by imputation or removal) could improve the accuracy of analyses.\n",
        "*   **Visualize Relationships:** We created a bar plot for location type sales, but visualizing other relationships (like establishment year vs. sales, or item type vs. sales) can reveal more insights. Scatter plots, box plots, or line plots could be useful.\n",
        "*   **Feature Engineering:** You could create new features that might be useful for analysis or modeling, such as the age of the outlet (current year - establishment year).\n",
        "*   **Predictive Modeling:** Based on the insights gained, you could build a predictive model to forecast `Item_Outlet_Sales` based on various item and outlet characteristics. This could help in identifying factors that drive sales and making informed business decisions.\n",
        "*   **Analyze Outlet Size:** Investigate the impact of 'Outlet\\_Size' on sales, considering the missing values in this column."
      ]
    }
  ]
}